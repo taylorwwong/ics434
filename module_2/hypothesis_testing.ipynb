{
 "cells": [
  {
   "cell_type": "markdown",
   "metadata": {},
   "source": [
    "### Example\n",
    "\n",
    "* Suppose we have two samples that represent biki ride durations for two distinct neighborhoods `a` and `b`\n",
    "\n",
    "1. Instead of working with actual data, sample the data from a gaussian the same mean ($\\mu=20$) the same same standard deviation ($\\sigma = 4$)\n",
    "    * We will sample 15 bike rides for each of regions `a` and `b`\n",
    "    "
   ]
  },
  {
   "cell_type": "code",
   "execution_count": 4,
   "metadata": {},
   "outputs": [],
   "source": [
    "# Write your code here \n",
    "import numpy as np\n",
    "\n",
    "data_a = np.random.normal(20,4,15)\n",
    "data_b = np.random.normal(20,4,15)"
   ]
  },
  {
   "cell_type": "markdown",
   "metadata": {},
   "source": [
    "### Example - cont'd\n",
    "\n",
    "2. Compute and compare the means of datasets `a` `b`\n",
    "  * Based on the observed difference between the means, do you believe there is a statistically significant difference between samples `a` and `b`"
   ]
  },
  {
   "cell_type": "code",
   "execution_count": 5,
   "metadata": {},
   "outputs": [
    {
     "data": {
      "text/plain": [
       "(20.770949940368144, 19.686287589403022)"
      ]
     },
     "execution_count": 5,
     "metadata": {},
     "output_type": "execute_result"
    }
   ],
   "source": [
    "# Write your code here \n",
    "\n",
    "np.mean(data_a), np.mean(data_b)"
   ]
  },
  {
   "cell_type": "markdown",
   "metadata": {},
   "source": [
    "### Example - cont'd\n",
    "\n",
    "3. draw the two KDEs reprenting the datasets `a` and `b`\n",
    "  * You should have a figure that appears \"approximately\" as in the figure below\n",
    "    * The X- and Y-axis values have been intentionally omitted\n",
    "    \n",
    "![](https://www.dropbox.com/s/0ab4d92lkcn89jv/a_b_kde_exmaple.png?dl=1)    "
   ]
  },
  {
   "cell_type": "code",
   "execution_count": 20,
   "metadata": {},
   "outputs": [
    {
     "data": {
      "text/plain": [
       "[<matplotlib.lines.Line2D at 0x20a6f2c8310>]"
      ]
     },
     "execution_count": 20,
     "metadata": {},
     "output_type": "execute_result"
    },
    {
     "data": {
      "image/png": "[encoded data removed]",
      "text/plain": [
       "<Figure size 432x288 with 1 Axes>"
      ]
     },
     "metadata": {
      "needs_background": "light"
     },
     "output_type": "display_data"
    }
   ],
   "source": [
    "# Write your code here \n",
    "import scipy as sp\n",
    "import scipy.stats as stats\n",
    "import matplotlib.pyplot as plt\n",
    "\n",
    "x = np.arange(0,40,1)\n",
    "kde1 = sp.stats.gaussian_kde(data_a, bw_method = 0.8)\n",
    "kde2 = sp.stats.gaussian_kde(data_b, bw_method = 1.2)\n",
    "plt.plot(x, kde1.evaluate(x))\n",
    "plt.plot(x, kde2.evaluate(x))"
   ]
  },
  {
   "cell_type": "markdown",
   "metadata": {},
   "source": [
    "### Example - cont'd\n",
    "\n",
    "4. Visually, does dataset *a* differ significantly from dataset `b`"
   ]
  },
  {
   "cell_type": "code",
   "execution_count": null,
   "metadata": {},
   "outputs": [],
   "source": [
    "# Write your code here \n",
    "\n",
    "Yes, A is visually significantly different from B"
   ]
  },
  {
   "cell_type": "markdown",
   "metadata": {},
   "source": [
    "### Example - cont'd\n",
    "\n",
    "5. Use the resampling method covered in class to test whether or not there is a statistically significant difference between datasets `a` and `b`\n",
    " * Provide a p-value to support your claim.\n"
   ]
  },
  {
   "cell_type": "code",
   "execution_count": 24,
   "metadata": {},
   "outputs": [
    {
     "data": {
      "text/plain": [
       "0.295"
      ]
     },
     "execution_count": 24,
     "metadata": {},
     "output_type": "execute_result"
    }
   ],
   "source": [
    "# Write your code here \n",
    "\n",
    "data = np.concatenate([data_a,data_b])\n",
    "pval = []\n",
    "\n",
    "for _ in range (1000):\n",
    "    np.random.shuffle(data)\n",
    "    a=data[:20]\n",
    "    b=data[20:]\n",
    "    pval.append(np.mean(a)-np.mean(b))\n",
    "\n",
    "sum(pval >= np.mean(data_a) - np.mean(data_b)) /1000\n",
    "\n",
    "# Given that p value is .295, it is significantly different"
   ]
  },
  {
   "cell_type": "markdown",
   "metadata": {},
   "source": [
    "### Example - cont'd\n",
    "\n",
    "6. Plot a histogram of the means obtained during resampling and the observed value. \n",
    "  * You should have a figure that appears \"approximately\" as in the figure below\n",
    "![](https://www.dropbox.com/s/g54bal23o1ktj2j/a_b_hist_example.png?dl=1)  "
   ]
  },
  {
   "cell_type": "code",
   "execution_count": 40,
   "metadata": {},
   "outputs": [
    {
     "data": {
      "text/plain": [
       "<matplotlib.collections.PathCollection at 0x20a6f5b2be0>"
      ]
     },
     "execution_count": 40,
     "metadata": {},
     "output_type": "execute_result"
    },
    {
     "data": {
      "image/png": "[encoded data removed]",
      "text/plain": [
       "<Figure size 720x360 with 1 Axes>"
      ]
     },
     "metadata": {
      "needs_background": "light"
     },
     "output_type": "display_data"
    }
   ],
   "source": [
    "# Write your code here \n",
    "plt.figure(figsize=(10,5))\n",
    "plt.hist(pval, edgecolor='black', bins=12)\n",
    "plt.scatter(np.mean(data_a)- np.mean(data_b), 0, color='red')"
   ]
  },
  {
   "cell_type": "code",
   "execution_count": null,
   "metadata": {},
   "outputs": [],
   "source": []
  }
 ],
 "metadata": {
  "celltoolbar": "Slideshow",
  "colab": {
   "collapsed_sections": [],
   "name": "PP_1_Introduction.ipynb",
   "provenance": [],
   "version": "0.3.2"
  },
  "hide_input": false,
  "kernelspec": {
   "display_name": "Python 3 (ipykernel)",
   "language": "python",
   "name": "python3"
  },
  "language_info": {
   "codemirror_mode": {
    "name": "ipython",
    "version": 3
   },
   "file_extension": ".py",
   "mimetype": "text/x-python",
   "name": "python",
   "nbconvert_exporter": "python",
   "pygments_lexer": "ipython3",
   "version": "3.9.5"
  }
 },
 "nbformat": 4,
 "nbformat_minor": 1
}
